{
 "cells": [
  {
   "cell_type": "markdown",
   "metadata": {},
   "source": [
    "# Python Tips"
   ]
  },
  {
   "cell_type": "markdown",
   "metadata": {},
   "source": [
    "  ***"
   ]
  },
  {
   "cell_type": "markdown",
   "metadata": {},
   "source": [
    "## Using a Main Function\n",
    "*There's nothing special about main, you could name main into anything else*\n",
    "\n",
    "Before the Python interpreter executes your program, it defines a few special variables. One of those variables is called <font color=red>\\__name__</font> and it is automatically set to the string value <font color=red>\"\\__main__\"</font> when the program is being executed by itself in a standalone fashion. On the other hand, if the program is being imported by another program, then the <font color=red>\\__name__</font> variable is set to the name of that module. This means that we can know whether the program is being run by itself or whether it is being used by another program and based on that observation, we may or may not choose to execute some of the code that we have written.\n",
    "\n",
    "For example, assume that we have written a collection of functions to do some simple math. We can include a main function to invoke these math functions. It is much more likely, however, that these functions will be imported by another program for some other purpose. In that case, we would not want to execute our main function.\n",
    "\n",
    "__[link to web tutorial](https://medium.com/ibm-data-science-experience/markdown-for-jupyter-notebooks-cheatsheet-386c05aeebed)__"
   ]
  },
  {
   "cell_type": "code",
   "execution_count": 25,
   "metadata": {
    "scrolled": false
   },
   "outputs": [],
   "source": [
    "def squareit(n):\n",
    "    return n**2\n",
    "\n",
    "def cubit(n):\n",
    "    return n**3\n",
    "\n",
    "def main():\n",
    "    anum = int(input(\"Please enter a number\"))\n",
    "    print(squareit(anum))\n",
    "    print(cubit(anum))\n",
    "\n",
    "if __name__ == \"__main__\":\n",
    "    #main()\n",
    "    pass"
   ]
  },
  {
   "cell_type": "markdown",
   "metadata": {},
   "source": [
    "***"
   ]
  },
  {
   "cell_type": "markdown",
   "metadata": {},
   "source": [
    "## Modules"
   ]
  },
  {
   "cell_type": "markdown",
   "metadata": {},
   "source": [
    "**common operations**"
   ]
  },
  {
   "cell_type": "code",
   "execution_count": null,
   "metadata": {},
   "outputs": [],
   "source": [
    "import os\n",
    "dir(os) # check module content"
   ]
  },
  {
   "cell_type": "markdown",
   "metadata": {},
   "source": [
    "***"
   ]
  },
  {
   "cell_type": "markdown",
   "metadata": {},
   "source": [
    "## Working with String\n",
    "-  **indexing:** e.g. `'Color'[2]`\n",
    "-  **slicing:** e.g. `Color[1:3]`\n",
    "-  **length:** e.g. `len('Color')`\n",
    "-  **strings are <font color=red>immutable</font>**\n",
    "-  **for loop:**\n",
    "    `for ix in 'Color': ...`\n",
    "-  **string comparison:** `>, <, >=, <=, ==, !=`\n",
    "-  **in and not in operator:** `in`, `not in`\n",
    "-  **string `+` and `*`:** `'a' + 'b'` is `a` concatenate `b` - `'ab`,`'a'*3` is `'a'` concatenate itself 3 times - `'aaa'` \n",
    "-  **string frequently used methods:** <br>\n",
    "    `upper` <br>\n",
    "    `lower` <br>\n",
    "    `capitalize` <br>\n",
    "    `strip` - *returns a string with the leading and trailing whitespace removed* <br>\n",
    "    `lstrip` - *remove left whitespace* <br>\n",
    "    `rstrip` <br>\n",
    "    `count` - *returns the number of occrences of item* <br>\n",
    "    `replace` <br>\n",
    "    `center` <br>\n",
    "    `ljust` <br>\n",
    "    `rjust` <br>\n",
    "    `find` <br>\n",
    "    `rfind` <br>\n",
    "    `index` <br>\n",
    "    `rindex` <br>\n",
    "    `format` <br>\n",
    "    `split` - *split a string at space and put in list* <br>\n",
    "    `join` - *does opposit as `split`* <br>"
   ]
  },
  {
   "cell_type": "markdown",
   "metadata": {},
   "source": [
    "***"
   ]
  },
  {
   "cell_type": "markdown",
   "metadata": {},
   "source": [
    "## Working with List\n",
    "\n",
    "-  **lists are <font color=red>mutable<font>**\n",
    "-  **delete element(s)** `del a[1]` `del a[1:5]`\n",
    "-  **differentiate CLONE vs. REFERENCE** <br>\n",
    "    `a = [81, 82, 83]` <br>\n",
    "    `b = a`    *b is a reference of a, not clone* <br>\n",
    "    `b = a[:[]` *b is a clone of a, not reference <br>\n",
    "-  **list `+` and `*`:** similar to string, both are essentially cacatenation\n",
    "-  **list methods:** note `append` `sort` `reverse` all return `None`<br>\n",
    "    `append` <br>\n",
    "    `insert` <br>\n",
    "    `pop` <br>\n",
    "    `sort` <br>\n",
    "    `reverse` <br>\n",
    "    `index` <br>\n",
    "    `count` <br>\n",
    "    `remove` <br>\n",
    "-  **know the difference between `append` and `+` concatenation** <br>\n",
    "    `append`: modify the original list by adding a new item at the end <br>\n",
    "    `+`: a new list is created <br>\n",
    "-  **`list('abcd')`** will split the string into individual characters"
   ]
  },
  {
   "cell_type": "markdown",
   "metadata": {},
   "source": [
    "***"
   ]
  },
  {
   "cell_type": "markdown",
   "metadata": {},
   "source": [
    "## Working with Files\n",
    "-  **key functions**: <br>\n",
    "    `open(filename, 'r')` <br>\n",
    "    `open(filename, 'w')` <br>\n",
    "    `filevariable.close()` <br>\n",
    "    `filevariable.write(astring)` *add `astring` to the end of the file. filevariable must refer to a file th at has been opened for writing.*<br>\n",
    "    `filevariable.read(n)` *reads and returns a string of `n` characters, or the entire file `n` is not provided*<br>\n",
    "    `filevariable.readline(n)` *read the next line of the file. If `n` is provided, then only `n` characters will be provided*<br>\n",
    "    `filevariable.readlines(n)` *return a list of strings. Each list item is a line of the file. If `n` is provided, only read `n` characters.*<br>\n",
    "- **about path:** python program can access any files in the same folder without specified path as the `*.py` file that was run in command line. It is recommended to use relative path `./subfolder` `../../otherfolder` \n",
    "- **use for loop to operate on one line at a time:**<br>\n",
    "    `for line in myFile:`<br>\n",
    "    `statement1`<br>\n",
    "    `statement2`<br>"
   ]
  },
  {
   "cell_type": "markdown",
   "metadata": {},
   "source": [
    "### **code examples**"
   ]
  },
  {
   "cell_type": "code",
   "execution_count": null,
   "metadata": {},
   "outputs": [],
   "source": [
    "infile = open(\"qbdata.txt\", \"r\")\n",
    "outfile = open(\"qbnames.txt\", \"w\")\n",
    "\n",
    "aline = infile.readline()\n",
    "while aline:\n",
    "    items = aline.split()\n",
    "    dataline = items[1] + ',' + items[0]\n",
    "    outfile.write(dataline + '\\n')\n",
    "    aline = infile.readline()\n",
    "\n",
    "infile.close()\n",
    "outfile.close()"
   ]
  },
  {
   "cell_type": "markdown",
   "metadata": {},
   "source": [
    "***"
   ]
  },
  {
   "cell_type": "markdown",
   "metadata": {},
   "source": [
    "## Working with Dictionary"
   ]
  },
  {
   "cell_type": "markdown",
   "metadata": {},
   "source": [
    "-  **main methods:** <br>\n",
    "   <font color=blue>**Method** &emsp; **Parameters** &emsp; **Description** </font><br>\n",
    "    `keys` &emsp; `none` &emsp; *returns a view of the keys*<br>\n",
    "    `values` &emsp; `none` &emsp; *returns a view of the values*<br>\n",
    "    `items` &emsp; `none` &emsp; *returns a view of key-value pairs<br>\n",
    "    `get` &emsp; `key` &emsp; *returns the value associated with the key*<br>\n",
    "    `copy` &emsp; `none` &emsp; *makes a copy of the dictionary instead of aliasing <br>\n",
    "    \n",
    "\n",
    "        "
   ]
  },
  {
   "cell_type": "markdown",
   "metadata": {},
   "source": [
    "-  use `keys()` method to get the keys"
   ]
  },
  {
   "cell_type": "code",
   "execution_count": null,
   "metadata": {},
   "outputs": [],
   "source": [
    "inventory = {'apples': 430, 'bananas': 312, 'oranges': 525, 'pears': 217}\n",
    "\n",
    "for akey in inventory.keys():     # the order in which we get the keys is not defined\n",
    "   print(\"Got key\", akey, \"which maps to value\", inventory[akey])\n",
    "\n",
    "ks = list(inventory.keys())\n",
    "print(ks)"
   ]
  },
  {
   "cell_type": "markdown",
   "metadata": {},
   "source": [
    "-  it is common to iterate over the keys in a dictionary. Python allows you to omit the `keys` methodcall in the `for` loop"
   ]
  },
  {
   "cell_type": "code",
   "execution_count": null,
   "metadata": {},
   "outputs": [],
   "source": [
    "inventory = {'apples': 430, 'bananas': 312, 'oranges': 525, 'pears': 217}\n",
    "\n",
    "for k in inventory:\n",
    "   print(\"Got key\", k)"
   ]
  },
  {
   "cell_type": "markdown",
   "metadata": {},
   "source": [
    "-  `items()`. note how the example uses `(k,v)` and `k in inventory`"
   ]
  },
  {
   "cell_type": "code",
   "execution_count": null,
   "metadata": {},
   "outputs": [],
   "source": [
    "inventory = {'apples': 430, 'bananas': 312, 'oranges': 525, 'pears': 217}\n",
    "\n",
    "print(list(inventory.values()))\n",
    "print(list(inventory.items()))\n",
    "\n",
    "for (k,v) in inventory.items():\n",
    "    print(\"Got\", k, \"that maps to\", v)\n",
    "\n",
    "for k in inventory:\n",
    "    print(\"Got\", k, \"that maps to\", inventory[k])"
   ]
  },
  {
   "cell_type": "code",
   "execution_count": null,
   "metadata": {},
   "outputs": [],
   "source": []
  },
  {
   "cell_type": "code",
   "execution_count": null,
   "metadata": {},
   "outputs": [],
   "source": []
  },
  {
   "cell_type": "code",
   "execution_count": null,
   "metadata": {},
   "outputs": [],
   "source": []
  },
  {
   "cell_type": "code",
   "execution_count": null,
   "metadata": {},
   "outputs": [],
   "source": []
  }
 ],
 "metadata": {
  "kernelspec": {
   "display_name": "Python 3",
   "language": "python",
   "name": "python3"
  },
  "language_info": {
   "codemirror_mode": {
    "name": "ipython",
    "version": 3
   },
   "file_extension": ".py",
   "mimetype": "text/x-python",
   "name": "python",
   "nbconvert_exporter": "python",
   "pygments_lexer": "ipython3",
   "version": "3.6.5"
  }
 },
 "nbformat": 4,
 "nbformat_minor": 2
}
